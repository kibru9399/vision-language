{
 "cells": [
  {
   "cell_type": "code",
   "execution_count": 2,
   "id": "011a1aa9",
   "metadata": {},
   "outputs": [],
   "source": [
    "!pip install torch -q"
   ]
  },
  {
   "cell_type": "code",
   "execution_count": 3,
   "id": "9f20a3de",
   "metadata": {},
   "outputs": [],
   "source": [
    "import torch\n",
    "import torch.nn as nn"
   ]
  },
  {
   "cell_type": "code",
   "execution_count": 11,
   "id": "20d3f064",
   "metadata": {},
   "outputs": [
    {
     "data": {
      "text/plain": [
       "tensor([[0, 1, 2, 3, 4]])"
      ]
     },
     "execution_count": 11,
     "metadata": {},
     "output_type": "execute_result"
    }
   ],
   "source": [
    "torch.arange(5).expand((1, -1))"
   ]
  },
  {
   "cell_type": "code",
   "execution_count": 31,
   "id": "f4bb032c",
   "metadata": {},
   "outputs": [],
   "source": [
    "input = torch.randn((4, 3, 224, 224))"
   ]
  },
  {
   "cell_type": "code",
   "execution_count": 32,
   "id": "4dbf65d8",
   "metadata": {},
   "outputs": [],
   "source": [
    "import torch.nn as nn\n",
    "conv = nn.Conv2d(\n",
    "                 in_channels = 3, \n",
    "                 out_channels = 768, \n",
    "                 kernel_size = 16, \n",
    "                 stride = 16, \n",
    "                 padding='valid')"
   ]
  },
  {
   "cell_type": "code",
   "execution_count": 33,
   "id": "8657ae03",
   "metadata": {},
   "outputs": [],
   "source": [
    "out = conv(input)"
   ]
  },
  {
   "cell_type": "code",
   "execution_count": 36,
   "id": "e90ba28f",
   "metadata": {},
   "outputs": [
    {
     "data": {
      "text/plain": [
       "torch.Size([4, 768, 196])"
      ]
     },
     "execution_count": 36,
     "metadata": {},
     "output_type": "execute_result"
    }
   ],
   "source": [
    "out.flatten(2).shape"
   ]
  },
  {
   "cell_type": "code",
   "execution_count": 35,
   "id": "924dd6f9",
   "metadata": {},
   "outputs": [
    {
     "data": {
      "text/plain": [
       "torch.Size([4, 768, 14, 14])"
      ]
     },
     "execution_count": 35,
     "metadata": {},
     "output_type": "execute_result"
    }
   ],
   "source": [
    "out.shape"
   ]
  },
  {
   "cell_type": "code",
   "execution_count": 37,
   "id": "0b24c0d5",
   "metadata": {},
   "outputs": [],
   "source": [
    "embed = nn.Embedding(1024, 768)"
   ]
  },
  {
   "cell_type": "code",
   "execution_count": 39,
   "id": "b8eac548",
   "metadata": {},
   "outputs": [
    {
     "data": {
      "text/plain": [
       "torch.Size([4, 768])"
      ]
     },
     "execution_count": 39,
     "metadata": {},
     "output_type": "execute_result"
    }
   ],
   "source": [
    "embed(torch.arange(4)).shape"
   ]
  },
  {
   "cell_type": "code",
   "execution_count": 10,
   "id": "423577ad",
   "metadata": {},
   "outputs": [],
   "source": [
    "\n",
    "import torch\n",
    "a = torch.zeros(4, 5)"
   ]
  },
  {
   "cell_type": "code",
   "execution_count": 12,
   "id": "6230d21c",
   "metadata": {},
   "outputs": [
    {
     "data": {
      "text/plain": [
       "torch.Size([4, 5, 10])"
      ]
     },
     "execution_count": 12,
     "metadata": {},
     "output_type": "execute_result"
    }
   ],
   "source": [
    "a.unsqueeze(-1).expand(-1, -1, 10).shape\n"
   ]
  },
  {
   "cell_type": "code",
   "execution_count": null,
   "id": "497cd151",
   "metadata": {},
   "outputs": [],
   "source": []
  }
 ],
 "metadata": {
  "kernelspec": {
   "display_name": "crewai",
   "language": "python",
   "name": "python3"
  },
  "language_info": {
   "codemirror_mode": {
    "name": "ipython",
    "version": 3
   },
   "file_extension": ".py",
   "mimetype": "text/x-python",
   "name": "python",
   "nbconvert_exporter": "python",
   "pygments_lexer": "ipython3",
   "version": "3.12.1"
  }
 },
 "nbformat": 4,
 "nbformat_minor": 5
}
